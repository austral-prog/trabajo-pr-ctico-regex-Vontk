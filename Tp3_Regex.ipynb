{
 "cells": [
  {
   "cell_type": "code",
   "id": "98bce14f-98b2-4855-99c3-284c9f0f1322",
   "metadata": {
    "ExecuteTime": {
     "end_time": "2024-05-31T18:16:05.649990Z",
     "start_time": "2024-05-31T18:16:05.639369Z"
    }
   },
   "source": [
    "import re\n",
    "\n",
    "s = \"\"\"\n",
    "\n",
    "00:B0:D0:63:C2:26 Once upon a time, in the enchanted land of Regexville, there lived a group of intrepid explorers.\n",
    "Their leader, Alice, was known for her love of adventure and her trusty email address, alice@example.com.\n",
    "Her phone number, 123-456-7890, was her lifeline in times of trouble.\n",
    "One day, Alice received a mysterious letter with today's date: 08/10/2023. The letter hinted at an upcoming quest.\n",
    "The explorers gathered at the local inn, where they found a weathered map marked with a hashtag: #adventure.\n",
    "The map pointed to a hidden treasure on the website https://www.treasurehunt.com. The inn's address was 123 Main Street, Regexville, ZIP: 12345-6789.\n",
    "Their journey took them through the ancient forest, where they stumbled upon a cave with cryptic inscriptions:\n",
    "\"Python is amazing!\" and \"Java is equally fascinating!\" The explorers knew they were on the right path.\n",
    "Inside the cave, they found a device with the IP address 192.168.1.1 and a MAC addres of 00-B0-D0-63-C2-26, which held valuable clues.\n",
    "\n",
    "Among the explorers, there was a wordsmith who loved finding words with three consecutive vowels:\n",
    "\"boasting,\" \"quizzical,\" \"genuine,\" and \"queue\" were some of his favorites.\n",
    "As they continued their adventure, they encountered Lorem Ipsum, a lorem ipsum generator who spoke in Latin:\n",
    "\"Lorem ipsum dolor sit amet, consectetur adipiscing elit.\"\n",
    "In their pursuit, they stumbled upon an ancient book with mysterious ISBN-10 and ISBN-13 numbers:\n",
    "ISBN-10: 123456789X and ISBN-13: 978-1234567890.\n",
    "Their journey was filled with unexpected twists and turns, much like the regex patterns they used to decipher clues.\n",
    "After a long day, the explorers gathered around a campfire, sharing tales of their encounters. They realized that every step of their adventure was a puzzle waiting to be solved, just like the regex challenges they had conquered.\n",
    "As they drifted off to sleep under a starlit sky, they knew that their quest for treasure and knowledge had only just begun, and the magic of Regexville would continue to guide their way.\n",
    "\n",
    "\"\"\""
   ],
   "outputs": [],
   "execution_count": 4
  },
  {
   "cell_type": "markdown",
   "id": "514f802a-9b85-4457-80b4-b53623832bb2",
   "metadata": {},
   "source": [
    "#### Write a Python program that matches and prints all words that start with the letter 'A' in a given text."
   ]
  },
  {
   "cell_type": "code",
   "id": "db4c55db-2416-43bc-83b3-07eea37df2d7",
   "metadata": {
    "scrolled": true,
    "ExecuteTime": {
     "end_time": "2024-04-25T15:38:14.506066Z",
     "start_time": "2024-04-25T15:38:14.481913Z"
    }
   },
   "source": [
    "a = re.findall(r'\\b[Aa]\\w+\\b',s)\n",
    "print(a)"
   ],
   "outputs": [
    {
     "name": "stdout",
     "output_type": "stream",
     "text": [
      "['Alice', 'adventure', 'and', 'address', 'alice', 'Alice', 'at', 'an', 'at', 'adventure', 'address', 'ancient', 'amazing', 'and', 'address', 'and', 'addres', 'Among', 'and', 'As', 'adventure', 'amet', 'adipiscing', 'an', 'ancient', 'and', 'and', 'and', 'After', 'around', 'adventure', 'As', 'and', 'and']\n"
     ]
    }
   ],
   "execution_count": 69
  },
  {
   "cell_type": "markdown",
   "id": "964905ba-bcb1-4c2e-9a21-224e68728094",
   "metadata": {},
   "source": [
    "#### Create a Python program to validate email addresses. The program should check if a given string is a valid email address or not."
   ]
  },
  {
   "cell_type": "code",
   "id": "4b499ed5-e972-4116-a721-dbfb29e781d5",
   "metadata": {
    "ExecuteTime": {
     "end_time": "2024-04-25T15:38:14.568563Z",
     "start_time": "2024-04-25T15:38:14.560322Z"
    }
   },
   "source": [
    "email=re.findall(r'\\b\\w+@\\w+\\.com[\\.\\w]*\\b',s)\n",
    "print(email)"
   ],
   "outputs": [
    {
     "name": "stdout",
     "output_type": "stream",
     "text": [
      "['alice@example.com']\n"
     ]
    }
   ],
   "execution_count": 70
  },
  {
   "cell_type": "markdown",
   "id": "9e6e0450-214b-40c6-a474-6dff2c41ee43",
   "metadata": {},
   "source": [
    "#### Write a Python program to find and count all the digits in a given text."
   ]
  },
  {
   "cell_type": "code",
   "id": "ec71a1d9-d971-4119-9124-a3f993069eeb",
   "metadata": {
    "ExecuteTime": {
     "end_time": "2024-04-25T15:38:14.698352Z",
     "start_time": "2024-04-25T15:38:14.671815Z"
    }
   },
   "source": [
    "d=(re.findall(r'\\d', s))\n",
    "print(len(d))"
   ],
   "outputs": [
    {
     "name": "stdout",
     "output_type": "stream",
     "text": [
      "86\n"
     ]
    }
   ],
   "execution_count": 71
  },
  {
   "cell_type": "markdown",
   "id": "5ba7033a-f85c-4ff9-9696-1a069beda9fb",
   "metadata": {},
   "source": [
    "#### Create a Python program that extracts all the URLs (http:// or https://) from a given text."
   ]
  },
  {
   "cell_type": "code",
   "id": "084f2eb3-e67c-45bd-8460-b113b6794e82",
   "metadata": {
    "ExecuteTime": {
     "end_time": "2024-05-03T18:07:06.502447Z",
     "start_time": "2024-05-03T18:07:06.489190Z"
    }
   },
   "source": [
    "a = re.findall(r'https?://[^\\s]+',s)\n",
    "print(a)"
   ],
   "outputs": [
    {
     "name": "stdout",
     "output_type": "stream",
     "text": [
      "['https://www.treasurehunt.com.']\n"
     ]
    }
   ],
   "execution_count": 9
  },
  {
   "cell_type": "markdown",
   "id": "04664806-5191-4a7a-bb82-be8cd0e9a77c",
   "metadata": {},
   "source": [
    "#### Write a Python program that extracts all the phone numbers (in the format xxx-xxx-xxxx) from a given text."
   ]
  },
  {
   "cell_type": "code",
   "id": "a88f57ea-c034-49e3-9586-bcf1a9b795f8",
   "metadata": {
    "ExecuteTime": {
     "end_time": "2024-04-25T15:38:15.008336Z",
     "start_time": "2024-04-25T15:38:14.993640Z"
    }
   },
   "source": [
    "a = re.findall(r'\\b[\\d]{3}-[\\d]{3}-[\\d]{4}\\b',s)\n",
    "print(a)"
   ],
   "outputs": [
    {
     "name": "stdout",
     "output_type": "stream",
     "text": [
      "['123-456-7890']\n"
     ]
    }
   ],
   "execution_count": 73
  },
  {
   "cell_type": "markdown",
   "id": "9601a4e1-beee-4c81-8f64-b8794c73d593",
   "metadata": {},
   "source": [
    "#### Write a Python program that replaces all occurrences of \"Python\" with \"Java\" in a given text."
   ]
  },
  {
   "cell_type": "code",
   "id": "fc8577e1-8f37-4c29-91f1-314736687689",
   "metadata": {
    "ExecuteTime": {
     "end_time": "2024-04-25T15:38:15.181899Z",
     "start_time": "2024-04-25T15:38:15.162764Z"
    }
   },
   "source": [
    "re.sub(r'Python', 'Java', s)"
   ],
   "outputs": [
    {
     "data": {
      "text/plain": [
       "'\\n\\n00:B0:D0:63:C2:26 Once upon a time, in the enchanted land of Regexville, there lived a group of intrepid explorers.\\nTheir leader, Alice, was known for her love of adventure and her trusty email address, alice@example.com.\\nHer phone number, 123-456-7890, was her lifeline in times of trouble.\\nOne day, Alice received a mysterious letter with today\\'s date: 08/10/2023. The letter hinted at an upcoming quest.\\nThe explorers gathered at the local inn, where they found a weathered map marked with a hashtag: #adventure.\\nThe map pointed to a hidden treasure on the website https://www.treasurehunt.com. The inn\\'s address was 123 Main Street, Regexville, ZIP: 12345-6789.\\nTheir journey took them through the ancient forest, where they stumbled upon a cave with cryptic inscriptions:\\n\"Java is amazing!\" and \"Java is equally fascinating!\" The explorers knew they were on the right path.\\nInside the cave, they found a device with the IP address 192.168.1.1 and a MAC addres of 00-B0-D0-63-C2-26, which held valuable clues.\\n\\nAmong the explorers, there was a wordsmith who loved finding words with three consecutive vowels:\\n\"boasting,\" \"quizzical,\" \"genuine,\" and \"queue\" were some of his favorites.\\nAs they continued their adventure, they encountered Lorem Ipsum, a lorem ipsum generator who spoke in Latin:\\n\"Lorem ipsum dolor sit amet, consectetur adipiscing elit.\"\\nIn their pursuit, they stumbled upon an ancient book with mysterious ISBN-10 and ISBN-13 numbers:\\nISBN-10: 123456789X and ISBN-13: 978-1234567890.\\nTheir journey was filled with unexpected twists and turns, much like the regex patterns they used to decipher clues.\\nAfter a long day, the explorers gathered around a campfire, sharing tales of their encounters. They realized that every step of their adventure was a puzzle waiting to be solved, just like the regex challenges they had conquered.\\nAs they drifted off to sleep under a starlit sky, they knew that their quest for treasure and knowledge had only just begun, and the magic of Regexville would continue to guide their way.\\n\\n'"
      ]
     },
     "execution_count": 74,
     "metadata": {},
     "output_type": "execute_result"
    }
   ],
   "execution_count": 74
  },
  {
   "cell_type": "markdown",
   "id": "7b4927c7-aeaa-45b3-b188-bdeffad10427",
   "metadata": {},
   "source": [
    "#### Create a Python program to validate US ZIP codes (5 digits, optional hyphen, followed by 4 more digits)."
   ]
  },
  {
   "cell_type": "code",
   "id": "1a47bad6-3a06-42d4-a8fb-5b68b9b91173",
   "metadata": {
    "ExecuteTime": {
     "end_time": "2024-05-31T18:24:53.612459Z",
     "start_time": "2024-05-31T18:24:53.556609Z"
    }
   },
   "source": "print(re.findall(r'\\b\\d{5}(?:-\\d{4})?\\b',s))",
   "outputs": [
    {
     "name": "stdout",
     "output_type": "stream",
     "text": [
      "['12345-6789']\n"
     ]
    }
   ],
   "execution_count": 8
  },
  {
   "cell_type": "markdown",
   "id": "3fae7411-88ab-4d0f-8f90-300455f8b0f2",
   "metadata": {},
   "source": [
    "#### Write a Python program that extracts all the words with 3 or more consecutive vowels from a given text."
   ]
  },
  {
   "cell_type": "code",
   "id": "8c582872-3f44-46e1-b3d5-c185a248cedb",
   "metadata": {
    "ExecuteTime": {
     "end_time": "2024-04-25T15:38:15.744629Z",
     "start_time": "2024-04-25T15:38:15.726402Z"
    }
   },
   "source": [
    "re.findall(r'\\b\\w*[aeiouAEIOU]{3}\\w*\\b',s)"
   ],
   "outputs": [
    {
     "data": {
      "text/plain": [
       "['mysterious', 'queue', 'mysterious']"
      ]
     },
     "execution_count": 76,
     "metadata": {},
     "output_type": "execute_result"
    }
   ],
   "execution_count": 76
  },
  {
   "cell_type": "markdown",
   "id": "7d03b484-4ed5-4873-95a1-6968d5001479",
   "metadata": {},
   "source": [
    "#### Write a Python program that extracts all the words that are enclosed in double quotes in a given text."
   ]
  },
  {
   "cell_type": "code",
   "id": "b3ccfe62-4b3c-4ead-89f7-e33b52dd43c2",
   "metadata": {
    "ExecuteTime": {
     "end_time": "2024-04-25T15:38:15.818084Z",
     "start_time": "2024-04-25T15:38:15.799488Z"
    }
   },
   "source": [
    "re.findall(r'[\"][\\w\\.,]+[\"]',s)"
   ],
   "outputs": [
    {
     "data": {
      "text/plain": [
       "['\"boasting,\"', '\"quizzical,\"', '\"genuine,\"', '\"queue\"']"
      ]
     },
     "execution_count": 77,
     "metadata": {},
     "output_type": "execute_result"
    }
   ],
   "execution_count": 77
  },
  {
   "cell_type": "markdown",
   "id": "e6cb2b73-c45b-4b28-8610-57d9304ddfe5",
   "metadata": {},
   "source": [
    "#### Create a Python program that extracts all the dates in the format \"dd/mm/yyyy\" from a given text."
   ]
  },
  {
   "cell_type": "code",
   "id": "cf67cec5-9f4a-42ac-866f-4f28111d2f1f",
   "metadata": {
    "ExecuteTime": {
     "end_time": "2024-05-03T18:29:18.610846Z",
     "start_time": "2024-05-03T18:29:18.596343Z"
    }
   },
   "source": "re.findall(r'\\d{2}/\\d{2}/\\d{4}',s)",
   "outputs": [
    {
     "data": {
      "text/plain": [
       "['08/10/2023']"
      ]
     },
     "execution_count": 14,
     "metadata": {},
     "output_type": "execute_result"
    }
   ],
   "execution_count": 14
  },
  {
   "cell_type": "markdown",
   "id": "bc8cd00e-ce8e-4ef3-a20e-e3714464a827",
   "metadata": {},
   "source": [
    "#### Write a Python program that extracts all the words that contain only lowercase letters from a given text."
   ]
  },
  {
   "cell_type": "code",
   "id": "67e053c3-c06c-490d-83d2-13d5873df074",
   "metadata": {
    "ExecuteTime": {
     "end_time": "2024-04-25T15:38:16.080798Z",
     "start_time": "2024-04-25T15:38:16.063225Z"
    }
   },
   "source": [
    "re.findall(r'\\b[a-z]+\\b',s)"
   ],
   "outputs": [
    {
     "data": {
      "text/plain": [
       "['upon',\n",
       " 'a',\n",
       " 'time',\n",
       " 'in',\n",
       " 'the',\n",
       " 'enchanted',\n",
       " 'land',\n",
       " 'of',\n",
       " 'there',\n",
       " 'lived',\n",
       " 'a',\n",
       " 'group',\n",
       " 'of',\n",
       " 'intrepid',\n",
       " 'explorers',\n",
       " 'leader',\n",
       " 'was',\n",
       " 'known',\n",
       " 'for',\n",
       " 'her',\n",
       " 'love',\n",
       " 'of',\n",
       " 'adventure',\n",
       " 'and',\n",
       " 'her',\n",
       " 'trusty',\n",
       " 'email',\n",
       " 'address',\n",
       " 'alice',\n",
       " 'example',\n",
       " 'com',\n",
       " 'phone',\n",
       " 'number',\n",
       " 'was',\n",
       " 'her',\n",
       " 'lifeline',\n",
       " 'in',\n",
       " 'times',\n",
       " 'of',\n",
       " 'trouble',\n",
       " 'day',\n",
       " 'received',\n",
       " 'a',\n",
       " 'mysterious',\n",
       " 'letter',\n",
       " 'with',\n",
       " 'today',\n",
       " 's',\n",
       " 'date',\n",
       " 'letter',\n",
       " 'hinted',\n",
       " 'at',\n",
       " 'an',\n",
       " 'upcoming',\n",
       " 'quest',\n",
       " 'explorers',\n",
       " 'gathered',\n",
       " 'at',\n",
       " 'the',\n",
       " 'local',\n",
       " 'inn',\n",
       " 'where',\n",
       " 'they',\n",
       " 'found',\n",
       " 'a',\n",
       " 'weathered',\n",
       " 'map',\n",
       " 'marked',\n",
       " 'with',\n",
       " 'a',\n",
       " 'hashtag',\n",
       " 'adventure',\n",
       " 'map',\n",
       " 'pointed',\n",
       " 'to',\n",
       " 'a',\n",
       " 'hidden',\n",
       " 'treasure',\n",
       " 'on',\n",
       " 'the',\n",
       " 'website',\n",
       " 'https',\n",
       " 'www',\n",
       " 'treasurehunt',\n",
       " 'com',\n",
       " 'inn',\n",
       " 's',\n",
       " 'address',\n",
       " 'was',\n",
       " 'journey',\n",
       " 'took',\n",
       " 'them',\n",
       " 'through',\n",
       " 'the',\n",
       " 'ancient',\n",
       " 'forest',\n",
       " 'where',\n",
       " 'they',\n",
       " 'stumbled',\n",
       " 'upon',\n",
       " 'a',\n",
       " 'cave',\n",
       " 'with',\n",
       " 'cryptic',\n",
       " 'inscriptions',\n",
       " 'is',\n",
       " 'amazing',\n",
       " 'and',\n",
       " 'is',\n",
       " 'equally',\n",
       " 'fascinating',\n",
       " 'explorers',\n",
       " 'knew',\n",
       " 'they',\n",
       " 'were',\n",
       " 'on',\n",
       " 'the',\n",
       " 'right',\n",
       " 'path',\n",
       " 'the',\n",
       " 'cave',\n",
       " 'they',\n",
       " 'found',\n",
       " 'a',\n",
       " 'device',\n",
       " 'with',\n",
       " 'the',\n",
       " 'address',\n",
       " 'and',\n",
       " 'a',\n",
       " 'addres',\n",
       " 'of',\n",
       " 'which',\n",
       " 'held',\n",
       " 'valuable',\n",
       " 'clues',\n",
       " 'the',\n",
       " 'explorers',\n",
       " 'there',\n",
       " 'was',\n",
       " 'a',\n",
       " 'wordsmith',\n",
       " 'who',\n",
       " 'loved',\n",
       " 'finding',\n",
       " 'words',\n",
       " 'with',\n",
       " 'three',\n",
       " 'consecutive',\n",
       " 'vowels',\n",
       " 'boasting',\n",
       " 'quizzical',\n",
       " 'genuine',\n",
       " 'and',\n",
       " 'queue',\n",
       " 'were',\n",
       " 'some',\n",
       " 'of',\n",
       " 'his',\n",
       " 'favorites',\n",
       " 'they',\n",
       " 'continued',\n",
       " 'their',\n",
       " 'adventure',\n",
       " 'they',\n",
       " 'encountered',\n",
       " 'a',\n",
       " 'lorem',\n",
       " 'ipsum',\n",
       " 'generator',\n",
       " 'who',\n",
       " 'spoke',\n",
       " 'in',\n",
       " 'ipsum',\n",
       " 'dolor',\n",
       " 'sit',\n",
       " 'amet',\n",
       " 'consectetur',\n",
       " 'adipiscing',\n",
       " 'elit',\n",
       " 'their',\n",
       " 'pursuit',\n",
       " 'they',\n",
       " 'stumbled',\n",
       " 'upon',\n",
       " 'an',\n",
       " 'ancient',\n",
       " 'book',\n",
       " 'with',\n",
       " 'mysterious',\n",
       " 'and',\n",
       " 'numbers',\n",
       " 'and',\n",
       " 'journey',\n",
       " 'was',\n",
       " 'filled',\n",
       " 'with',\n",
       " 'unexpected',\n",
       " 'twists',\n",
       " 'and',\n",
       " 'turns',\n",
       " 'much',\n",
       " 'like',\n",
       " 'the',\n",
       " 'regex',\n",
       " 'patterns',\n",
       " 'they',\n",
       " 'used',\n",
       " 'to',\n",
       " 'decipher',\n",
       " 'clues',\n",
       " 'a',\n",
       " 'long',\n",
       " 'day',\n",
       " 'the',\n",
       " 'explorers',\n",
       " 'gathered',\n",
       " 'around',\n",
       " 'a',\n",
       " 'campfire',\n",
       " 'sharing',\n",
       " 'tales',\n",
       " 'of',\n",
       " 'their',\n",
       " 'encounters',\n",
       " 'realized',\n",
       " 'that',\n",
       " 'every',\n",
       " 'step',\n",
       " 'of',\n",
       " 'their',\n",
       " 'adventure',\n",
       " 'was',\n",
       " 'a',\n",
       " 'puzzle',\n",
       " 'waiting',\n",
       " 'to',\n",
       " 'be',\n",
       " 'solved',\n",
       " 'just',\n",
       " 'like',\n",
       " 'the',\n",
       " 'regex',\n",
       " 'challenges',\n",
       " 'they',\n",
       " 'had',\n",
       " 'conquered',\n",
       " 'they',\n",
       " 'drifted',\n",
       " 'off',\n",
       " 'to',\n",
       " 'sleep',\n",
       " 'under',\n",
       " 'a',\n",
       " 'starlit',\n",
       " 'sky',\n",
       " 'they',\n",
       " 'knew',\n",
       " 'that',\n",
       " 'their',\n",
       " 'quest',\n",
       " 'for',\n",
       " 'treasure',\n",
       " 'and',\n",
       " 'knowledge',\n",
       " 'had',\n",
       " 'only',\n",
       " 'just',\n",
       " 'begun',\n",
       " 'and',\n",
       " 'the',\n",
       " 'magic',\n",
       " 'of',\n",
       " 'would',\n",
       " 'continue',\n",
       " 'to',\n",
       " 'guide',\n",
       " 'their',\n",
       " 'way']"
      ]
     },
     "execution_count": 79,
     "metadata": {},
     "output_type": "execute_result"
    }
   ],
   "execution_count": 79
  },
  {
   "cell_type": "markdown",
   "id": "27138953-f3d8-4e8e-b94f-9cf60043cb76",
   "metadata": {},
   "source": [
    "#### Create a Python program that finds and prints all the hashtags (words starting with #) in a given text."
   ]
  },
  {
   "cell_type": "code",
   "id": "93e50146-3390-46d7-8440-23dc4f0b5e5f",
   "metadata": {
    "ExecuteTime": {
     "end_time": "2024-04-25T15:38:16.147729Z",
     "start_time": "2024-04-25T15:38:16.138889Z"
    }
   },
   "source": [
    "re.findall(r'#+\\w*\\b',s)"
   ],
   "outputs": [
    {
     "data": {
      "text/plain": [
       "['#adventure']"
      ]
     },
     "execution_count": 80,
     "metadata": {},
     "output_type": "execute_result"
    }
   ],
   "execution_count": 80
  },
  {
   "cell_type": "markdown",
   "id": "b73f8a8f-320a-44d7-95ee-587e48bffd17",
   "metadata": {},
   "source": [
    "#### Create a Python program to validate and extract ISBN-10 and ISBN-13 numbers from a given text."
   ]
  },
  {
   "cell_type": "code",
   "id": "cf458093-044e-47f8-bdac-4d8ce22669ee",
   "metadata": {
    "ExecuteTime": {
     "end_time": "2024-05-31T18:26:38.597208Z",
     "start_time": "2024-05-31T18:26:38.572275Z"
    }
   },
   "source": "re.findall(r'\\b(?:ISBN[- ]?)?(?=[-0-9X ]{10,17}\\b)[0-9]{1,5}[- ]?[0-9]+[- ]?[0-9]+[- ]?[0-9X]\\b',s)",
   "outputs": [
    {
     "data": {
      "text/plain": [
       "['123-456-7890', '12345-6789', '123456789X', '978-1234567890']"
      ]
     },
     "execution_count": 10,
     "metadata": {},
     "output_type": "execute_result"
    }
   ],
   "execution_count": 10
  },
  {
   "cell_type": "markdown",
   "id": "3c9198be-8c2c-446d-8ad8-ae462af90a80",
   "metadata": {},
   "source": [
    "#### Write a Python program that extracts all the words that are exactly 5 characters long from a given text."
   ]
  },
  {
   "cell_type": "code",
   "id": "8f44b3b6-be95-48ab-af59-e7bc2c26a652",
   "metadata": {
    "ExecuteTime": {
     "end_time": "2024-05-31T18:18:35.156938Z",
     "start_time": "2024-05-31T18:18:35.142610Z"
    }
   },
   "source": "re.findall(r'\\b[A-Za-z]{5}\\b',s)",
   "outputs": [
    {
     "data": {
      "text/plain": [
       "['there',\n",
       " 'lived',\n",
       " 'group',\n",
       " 'Their',\n",
       " 'Alice',\n",
       " 'known',\n",
       " 'email',\n",
       " 'alice',\n",
       " 'phone',\n",
       " 'times',\n",
       " 'Alice',\n",
       " 'today',\n",
       " 'quest',\n",
       " 'local',\n",
       " 'where',\n",
       " 'found',\n",
       " 'https',\n",
       " 'Their',\n",
       " 'where',\n",
       " 'right',\n",
       " 'found',\n",
       " 'which',\n",
       " 'clues',\n",
       " 'Among',\n",
       " 'there',\n",
       " 'loved',\n",
       " 'words',\n",
       " 'three',\n",
       " 'queue',\n",
       " 'their',\n",
       " 'Lorem',\n",
       " 'Ipsum',\n",
       " 'lorem',\n",
       " 'ipsum',\n",
       " 'spoke',\n",
       " 'Latin',\n",
       " 'Lorem',\n",
       " 'ipsum',\n",
       " 'dolor',\n",
       " 'their',\n",
       " 'Their',\n",
       " 'turns',\n",
       " 'regex',\n",
       " 'clues',\n",
       " 'After',\n",
       " 'tales',\n",
       " 'their',\n",
       " 'every',\n",
       " 'their',\n",
       " 'regex',\n",
       " 'sleep',\n",
       " 'under',\n",
       " 'their',\n",
       " 'quest',\n",
       " 'begun',\n",
       " 'magic',\n",
       " 'would',\n",
       " 'guide',\n",
       " 'their']"
      ]
     },
     "execution_count": 7,
     "metadata": {},
     "output_type": "execute_result"
    }
   ],
   "execution_count": 7
  },
  {
   "cell_type": "markdown",
   "id": "d19b4948-59f5-4d3d-9875-7f0f7e5ac60d",
   "metadata": {},
   "source": [
    "#### Create a Python program to validate and extract IPv4 addresses from a given text."
   ]
  },
  {
   "cell_type": "code",
   "id": "2a0082f4-c83b-44fc-a710-ae0dab06bc1d",
   "metadata": {
    "ExecuteTime": {
     "end_time": "2024-04-25T15:38:16.506184Z",
     "start_time": "2024-04-25T15:38:16.496642Z"
    }
   },
   "source": [
    "re.findall(r'\\b\\d{1,3}\\.\\d{1,3}\\.\\d{1,3}\\.\\d{1,3}\\b',s)"
   ],
   "outputs": [
    {
     "data": {
      "text/plain": [
       "['192.168.1.1']"
      ]
     },
     "execution_count": 83,
     "metadata": {},
     "output_type": "execute_result"
    }
   ],
   "execution_count": 83
  },
  {
   "cell_type": "markdown",
   "id": "9ce5f531-325b-4611-a5c3-b3b98d9eecf3",
   "metadata": {},
   "source": [
    "#### Write a Python program that extracts all the words that end with \"ing\" from a given text."
   ]
  },
  {
   "cell_type": "code",
   "id": "65481a0a-c36c-4b2a-a354-0393c98520cc",
   "metadata": {
    "ExecuteTime": {
     "end_time": "2024-04-25T15:38:16.592610Z",
     "start_time": "2024-04-25T15:38:16.582355Z"
    }
   },
   "source": [
    "re.findall(r'\\b\\w*ing\\b',s)"
   ],
   "outputs": [
    {
     "data": {
      "text/plain": [
       "['upcoming',\n",
       " 'amazing',\n",
       " 'fascinating',\n",
       " 'finding',\n",
       " 'boasting',\n",
       " 'adipiscing',\n",
       " 'sharing',\n",
       " 'waiting']"
      ]
     },
     "execution_count": 84,
     "metadata": {},
     "output_type": "execute_result"
    }
   ],
   "execution_count": 84
  },
  {
   "cell_type": "markdown",
   "id": "9c26f081-895f-487a-bb3b-b416804dc542",
   "metadata": {},
   "source": [
    "#### Create a Python program to validate and extract MAC addresses (in the format XX:XX:XX:XX:XX:XX) from a given text."
   ]
  },
  {
   "cell_type": "code",
   "id": "014b0956-6ef8-46a1-8f0b-635e8bbad63b",
   "metadata": {
    "ExecuteTime": {
     "end_time": "2024-05-03T18:28:12.399793Z",
     "start_time": "2024-05-03T18:28:12.390371Z"
    }
   },
   "source": "re.findall(r'([0-9A-Fa-f]{2}[-:]{1}){5}[0-9A-Fa-f]{2}',s)",
   "outputs": [
    {
     "data": {
      "text/plain": [
       "['C2:', 'C2-']"
      ]
     },
     "execution_count": 13,
     "metadata": {},
     "output_type": "execute_result"
    }
   ],
   "execution_count": 13
  },
  {
   "cell_type": "markdown",
   "id": "fbed41d9-05f1-4383-855f-96ba6fae2cba",
   "metadata": {},
   "source": [
    "#### Create a Python program to find all words that are before and after 'and' from a given text. (x and y)"
   ]
  },
  {
   "cell_type": "code",
   "id": "1fdb8f4b-7725-4041-b6c2-4dc7477c2e8d",
   "metadata": {
    "ExecuteTime": {
     "end_time": "2024-04-25T15:38:16.756868Z",
     "start_time": "2024-04-25T15:38:16.746551Z"
    }
   },
   "source": [
    "re.findall(r'\\w+ and \\w+', s)"
   ],
   "outputs": [
    {
     "data": {
      "text/plain": [
       "['adventure and her',\n",
       " '1 and a',\n",
       " '10 and ISBN',\n",
       " '123456789X and ISBN',\n",
       " 'twists and turns',\n",
       " 'treasure and knowledge']"
      ]
     },
     "execution_count": 86,
     "metadata": {},
     "output_type": "execute_result"
    }
   ],
   "execution_count": 86
  },
  {
   "cell_type": "markdown",
   "id": "79341e19-5b01-4373-95c0-4d18fbd56612",
   "metadata": {},
   "source": [
    "#### Create a Python program to find all words from a given text that start and end with the same letter and it is not a vowl."
   ]
  },
  {
   "cell_type": "code",
   "id": "4e009f2d-14c1-4090-8734-32effb9866db",
   "metadata": {
    "ExecuteTime": {
     "end_time": "2024-04-25T15:38:16.846853Z",
     "start_time": "2024-04-25T15:38:16.838498Z"
    }
   },
   "source": [
    "print(re.findall(r'\\b([^aeiou\\W\\d])\\w*\\1\\b',s))"
   ],
   "outputs": [
    {
     "name": "stdout",
     "output_type": "stream",
     "text": [
      "['l', 'w', 't', 'c', 't', 'd', 't']\n"
     ]
    }
   ],
   "execution_count": 87
  },
  {
   "cell_type": "markdown",
   "id": "e15fe5bc-23d9-41db-ae2b-9dff3f881758",
   "metadata": {},
   "source": [
    "#### Create a Python program to find all 'lorem ipsum' appearances (not cap sensitive) from a given text"
   ]
  },
  {
   "cell_type": "code",
   "id": "bb9db0ab-1c77-483f-b2f6-c3fabb5d0f08",
   "metadata": {
    "ExecuteTime": {
     "end_time": "2024-04-25T15:38:16.974673Z",
     "start_time": "2024-04-25T15:38:16.962746Z"
    }
   },
   "source": [
    "re.findall(r'[L|l]orem [I|i]psum', s)"
   ],
   "outputs": [
    {
     "data": {
      "text/plain": [
       "['Lorem Ipsum', 'lorem ipsum', 'Lorem ipsum']"
      ]
     },
     "execution_count": 88,
     "metadata": {},
     "output_type": "execute_result"
    }
   ],
   "execution_count": 88
  },
  {
   "cell_type": "markdown",
   "id": "c2dd9cda-3927-4697-ba6d-645c0c8777ce",
   "metadata": {},
   "source": [
    "#### Create a Python program to find all repeating equal consonants from a given text. (nn, tt, ..)"
   ]
  },
  {
   "cell_type": "code",
   "id": "97b7e1d8-4bd2-433b-b548-9a3bc918717d",
   "metadata": {
    "ExecuteTime": {
     "end_time": "2024-04-25T15:38:17.017481Z",
     "start_time": "2024-04-25T15:38:17.009934Z"
    }
   },
   "source": [
    "print(re.findall(r'([bcdfghjklmnpqrstvwxyz])\\1+',s))"
   ],
   "outputs": [
    {
     "name": "stdout",
     "output_type": "stream",
     "text": [
      "['l', 'd', 's', 't', 't', 'n', 'd', 't', 'w', 'n', 'd', 's', 'l', 'l', 'd', 's', 'd', 'z', 'l', 't', 'z', 'l', 'f', 'l']\n"
     ]
    }
   ],
   "execution_count": 89
  }
 ],
 "metadata": {
  "kernelspec": {
   "display_name": "Python 3 (ipykernel)",
   "language": "python",
   "name": "python3"
  },
  "language_info": {
   "codemirror_mode": {
    "name": "ipython",
    "version": 3
   },
   "file_extension": ".py",
   "mimetype": "text/x-python",
   "name": "python",
   "nbconvert_exporter": "python",
   "pygments_lexer": "ipython3",
   "version": "3.12.2"
  }
 },
 "nbformat": 4,
 "nbformat_minor": 5
}
