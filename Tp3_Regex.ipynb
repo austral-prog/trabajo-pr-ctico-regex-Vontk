{
 "cells": [
  {
   "cell_type": "code",
   "execution_count": 2,
   "id": "98bce14f-98b2-4855-99c3-284c9f0f1322",
   "metadata": {},
   "outputs": [],
   "source": [
    "import re\n",
    "\n",
    "s = \"\"\"\n",
    "\n",
    "Once upon a time, in the enchanted land of Regexville, there lived a group of intrepid explorers.\n",
    "Their leader, Alice, was known for her love of adventure and her trusty email address, alice@example.com.\n",
    "Her phone number, 123-456-7890, was her lifeline in times of trouble.\n",
    "One day, Alice received a mysterious letter with today's date: 08/10/2023. The letter hinted at an upcoming quest.\n",
    "The explorers gathered at the local inn, where they found a weathered map marked with a hashtag: #adventure.\n",
    "The map pointed to a hidden treasure on the website https://www.treasurehunt.com. The inn's address was 123 Main Street, Regexville, ZIP: 12345-6789.\n",
    "Their journey took them through the ancient forest, where they stumbled upon a cave with cryptic inscriptions:\n",
    "\"Python is amazing!\" and \"Java is equally fascinating!\" The explorers knew they were on the right path.\n",
    "Inside the cave, they found a device with the IP address 192.168.1.1 and a MAC addres of 00-B0-D0-63-C2-26, which held valuable clues.\n",
    "\n",
    "Among the explorers, there was a wordsmith who loved finding words with three consecutive vowels:\n",
    "\"boasting,\" \"quizzical,\" \"genuine,\" and \"queue\" were some of his favorites.\n",
    "As they continued their adventure, they encountered Lorem Ipsum, a lorem ipsum generator who spoke in Latin:\n",
    "\"Lorem ipsum dolor sit amet, consectetur adipiscing elit.\"\n",
    "In their pursuit, they stumbled upon an ancient book with mysterious ISBN-10 and ISBN-13 numbers:\n",
    "ISBN-10: 123456789X and ISBN-13: 978-1234567890.\n",
    "Their journey was filled with unexpected twists and turns, much like the regex patterns they used to decipher clues.\n",
    "After a long day, the explorers gathered around a campfire, sharing tales of their encounters. They realized that every step of their adventure was a puzzle waiting to be solved, just like the regex challenges they had conquered.\n",
    "As they drifted off to sleep under a starlit sky, they knew that their quest for treasure and knowledge had only just begun, and the magic of Regexville would continue to guide their way.\n",
    "\n",
    "\"\"\""
   ]
  },
  {
   "cell_type": "markdown",
   "id": "514f802a-9b85-4457-80b4-b53623832bb2",
   "metadata": {},
   "source": [
    "#### Write a Python program that matches and prints all words that start with the letter 'A' in a given text."
   ]
  },
  {
   "cell_type": "code",
   "execution_count": 4,
   "id": "db4c55db-2416-43bc-83b3-07eea37df2d7",
   "metadata": {
    "scrolled": true
   },
   "outputs": [
    {
     "name": "stdout",
     "output_type": "stream",
     "text": [
      "['Alice', 'adventure', 'and', 'address', 'alice', 'Alice', 'at', 'an', 'at', 'adventure', 'address', 'ancient', 'amazing', 'and', 'address', 'and', 'addres', 'Among', 'and', 'As', 'adventure', 'amet', 'adipiscing', 'an', 'ancient', 'and', 'and', 'and', 'After', 'around', 'adventure', 'As', 'and', 'and']\n"
     ]
    }
   ],
   "source": [
    "a = re.findall(r'\\b[Aa]\\w+\\b',s)\n",
    "print(a)"
   ]
  },
  {
   "cell_type": "markdown",
   "id": "964905ba-bcb1-4c2e-9a21-224e68728094",
   "metadata": {},
   "source": [
    "#### Create a Python program to validate email addresses. The program should check if a given string is a valid email address or not."
   ]
  },
  {
   "cell_type": "code",
   "execution_count": 12,
   "id": "4b499ed5-e972-4116-a721-dbfb29e781d5",
   "metadata": {},
   "outputs": [
    {
     "name": "stdout",
     "output_type": "stream",
     "text": [
      "['alice@example.com']\n"
     ]
    }
   ],
   "source": [
    "email=re.findall(r'\\b\\w+@\\w+\\.com[\\.\\w]*\\b',s)\n",
    "print(email)"
   ]
  },
  {
   "cell_type": "markdown",
   "id": "9e6e0450-214b-40c6-a474-6dff2c41ee43",
   "metadata": {},
   "source": [
    "#### Write a Python program to find and count all the digits in a given text."
   ]
  },
  {
   "cell_type": "code",
   "execution_count": 3,
   "id": "ec71a1d9-d971-4119-9124-a3f993069eeb",
   "metadata": {},
   "outputs": [
    {
     "name": "stdout",
     "output_type": "stream",
     "text": [
      "77\n"
     ]
    }
   ],
   "source": [
    "d=(re.findall(r'\\d', s))\n",
    "print(len(d))"
   ]
  },
  {
   "cell_type": "markdown",
   "id": "5ba7033a-f85c-4ff9-9696-1a069beda9fb",
   "metadata": {},
   "source": [
    "#### Create a Python program that extracts all the URLs (http:// or https://) from a given text."
   ]
  },
  {
   "cell_type": "code",
   "execution_count": 24,
   "id": "084f2eb3-e67c-45bd-8460-b113b6794e82",
   "metadata": {},
   "outputs": [
    {
     "name": "stdout",
     "output_type": "stream",
     "text": [
      "['https://']\n"
     ]
    }
   ],
   "source": [
    "a = re.findall(r'\\b(https:\\/\\/|http:\\/\\/)\\w+\\.\\w*\\.com\\b',s)\n",
    "print(a)"
   ]
  },
  {
   "cell_type": "markdown",
   "id": "04664806-5191-4a7a-bb82-be8cd0e9a77c",
   "metadata": {},
   "source": [
    "#### Write a Python program that extracts all the phone numbers (in the format xxx-xxx-xxxx) from a given text."
   ]
  },
  {
   "cell_type": "code",
   "execution_count": 13,
   "id": "a88f57ea-c034-49e3-9586-bcf1a9b795f8",
   "metadata": {},
   "outputs": [
    {
     "name": "stdout",
     "output_type": "stream",
     "text": [
      "['123-456-7890']\n"
     ]
    }
   ],
   "source": [
    "a = re.findall(r'\\b[\\d]{3}-[\\d]{3}-[\\d]{4}\\b',s)\n",
    "print(a)"
   ]
  },
  {
   "cell_type": "markdown",
   "id": "9601a4e1-beee-4c81-8f64-b8794c73d593",
   "metadata": {},
   "source": [
    "#### Write a Python program that replaces all occurrences of \"Python\" with \"Java\" in a given text."
   ]
  },
  {
   "cell_type": "code",
   "execution_count": 4,
   "id": "fc8577e1-8f37-4c29-91f1-314736687689",
   "metadata": {},
   "outputs": [
    {
     "data": {
      "text/plain": [
       "'\\n\\nOnce upon a time, in the enchanted land of Regexville, there lived a group of intrepid explorers.\\nTheir leader, Alice, was known for her love of adventure and her trusty email address, alice@example.com.\\nHer phone number, 123-456-7890, was her lifeline in times of trouble.\\nOne day, Alice received a mysterious letter with today\\'s date: 08/10/2023. The letter hinted at an upcoming quest.\\nThe explorers gathered at the local inn, where they found a weathered map marked with a hashtag: #adventure.\\nThe map pointed to a hidden treasure on the website https://www.treasurehunt.com. The inn\\'s address was 123 Main Street, Regexville, ZIP: 12345-6789.\\nTheir journey took them through the ancient forest, where they stumbled upon a cave with cryptic inscriptions:\\n\"Java is amazing!\" and \"Java is equally fascinating!\" The explorers knew they were on the right path.\\nInside the cave, they found a device with the IP address 192.168.1.1 and a MAC addres of 00-B0-D0-63-C2-26, which held valuable clues.\\n\\nAmong the explorers, there was a wordsmith who loved finding words with three consecutive vowels:\\n\"boasting,\" \"quizzical,\" \"genuine,\" and \"queue\" were some of his favorites.\\nAs they continued their adventure, they encountered Lorem Ipsum, a lorem ipsum generator who spoke in Latin:\\n\"Lorem ipsum dolor sit amet, consectetur adipiscing elit.\"\\nIn their pursuit, they stumbled upon an ancient book with mysterious ISBN-10 and ISBN-13 numbers:\\nISBN-10: 123456789X and ISBN-13: 978-1234567890.\\nTheir journey was filled with unexpected twists and turns, much like the regex patterns they used to decipher clues.\\nAfter a long day, the explorers gathered around a campfire, sharing tales of their encounters. They realized that every step of their adventure was a puzzle waiting to be solved, just like the regex challenges they had conquered.\\nAs they drifted off to sleep under a starlit sky, they knew that their quest for treasure and knowledge had only just begun, and the magic of Regexville would continue to guide their way.\\n\\n'"
      ]
     },
     "execution_count": 4,
     "metadata": {},
     "output_type": "execute_result"
    }
   ],
   "source": [
    "re.sub(r'Python', 'Java', s)"
   ]
  },
  {
   "cell_type": "markdown",
   "id": "7b4927c7-aeaa-45b3-b188-bdeffad10427",
   "metadata": {},
   "source": [
    "#### Create a Python program to validate US ZIP codes (5 digits, optional hyphen, followed by 4 more digits)."
   ]
  },
  {
   "cell_type": "code",
   "execution_count": 15,
   "id": "1a47bad6-3a06-42d4-a8fb-5b68b9b91173",
   "metadata": {},
   "outputs": [
    {
     "name": "stdout",
     "output_type": "stream",
     "text": [
      "['12345-6789']\n"
     ]
    }
   ],
   "source": [
    "print(re.findall(r'\\b\\d{5}[-\\s]+\\d{4}\\b',s))"
   ]
  },
  {
   "cell_type": "markdown",
   "id": "3fae7411-88ab-4d0f-8f90-300455f8b0f2",
   "metadata": {},
   "source": [
    "#### Write a Python program that extracts all the words with 3 or more consecutive vowels from a given text."
   ]
  },
  {
   "cell_type": "code",
   "execution_count": 16,
   "id": "8c582872-3f44-46e1-b3d5-c185a248cedb",
   "metadata": {},
   "outputs": [
    {
     "data": {
      "text/plain": [
       "['mysterious', 'queue', 'mysterious']"
      ]
     },
     "execution_count": 16,
     "metadata": {},
     "output_type": "execute_result"
    }
   ],
   "source": [
    "re.findall(r'\\b\\w*[aeiouAEIOU]{3}\\w*\\b',s)"
   ]
  },
  {
   "cell_type": "markdown",
   "id": "7d03b484-4ed5-4873-95a1-6968d5001479",
   "metadata": {},
   "source": [
    "#### Write a Python program that extracts all the words that are enclosed in double quotes in a given text."
   ]
  },
  {
   "cell_type": "code",
   "execution_count": 18,
   "id": "b3ccfe62-4b3c-4ead-89f7-e33b52dd43c2",
   "metadata": {},
   "outputs": [
    {
     "data": {
      "text/plain": [
       "['\"boasting,\"', '\"quizzical,\"', '\"genuine,\"', '\"queue\"']"
      ]
     },
     "execution_count": 18,
     "metadata": {},
     "output_type": "execute_result"
    }
   ],
   "source": [
    "re.findall(r'[\"][\\w\\.,]+[\"]',s)"
   ]
  },
  {
   "cell_type": "markdown",
   "id": "e6cb2b73-c45b-4b28-8610-57d9304ddfe5",
   "metadata": {},
   "source": [
    "#### Create a Python program that extracts all the dates in the format \"dd/mm/yyyy\" from a given text."
   ]
  },
  {
   "cell_type": "code",
   "execution_count": 20,
   "id": "cf67cec5-9f4a-42ac-866f-4f28111d2f1f",
   "metadata": {},
   "outputs": [
    {
     "data": {
      "text/plain": [
       "['08/10/2023']"
      ]
     },
     "execution_count": 20,
     "metadata": {},
     "output_type": "execute_result"
    }
   ],
   "source": [
    "re.findall(r'\\d{2}+/\\d{2}/\\d{4}',s)"
   ]
  },
  {
   "cell_type": "markdown",
   "id": "bc8cd00e-ce8e-4ef3-a20e-e3714464a827",
   "metadata": {},
   "source": [
    "#### Write a Python program that extracts all the words that contain only lowercase letters from a given text."
   ]
  },
  {
   "cell_type": "code",
   "execution_count": 28,
   "id": "67e053c3-c06c-490d-83d2-13d5873df074",
   "metadata": {},
   "outputs": [
    {
     "data": {
      "text/plain": [
       "['',\n",
       " '',\n",
       " 'upon',\n",
       " '',\n",
       " 'a',\n",
       " '',\n",
       " 'time',\n",
       " '',\n",
       " 'in',\n",
       " '',\n",
       " 'the',\n",
       " '',\n",
       " 'enchanted',\n",
       " '',\n",
       " 'land',\n",
       " '',\n",
       " 'of',\n",
       " '',\n",
       " '',\n",
       " '',\n",
       " 'there',\n",
       " '',\n",
       " 'lived',\n",
       " '',\n",
       " 'a',\n",
       " '',\n",
       " 'group',\n",
       " '',\n",
       " 'of',\n",
       " '',\n",
       " 'intrepid',\n",
       " '',\n",
       " 'explorers',\n",
       " '',\n",
       " '',\n",
       " '',\n",
       " 'leader',\n",
       " '',\n",
       " '',\n",
       " '',\n",
       " 'was',\n",
       " '',\n",
       " 'known',\n",
       " '',\n",
       " 'for',\n",
       " '',\n",
       " 'her',\n",
       " '',\n",
       " 'love',\n",
       " '',\n",
       " 'of',\n",
       " '',\n",
       " 'adventure',\n",
       " '',\n",
       " 'and',\n",
       " '',\n",
       " 'her',\n",
       " '',\n",
       " 'trusty',\n",
       " '',\n",
       " 'email',\n",
       " '',\n",
       " 'address',\n",
       " '',\n",
       " 'alice',\n",
       " '',\n",
       " 'example',\n",
       " '',\n",
       " 'com',\n",
       " '',\n",
       " '',\n",
       " '',\n",
       " 'phone',\n",
       " '',\n",
       " 'number',\n",
       " '',\n",
       " '',\n",
       " '',\n",
       " '',\n",
       " '',\n",
       " '',\n",
       " '',\n",
       " 'was',\n",
       " '',\n",
       " 'her',\n",
       " '',\n",
       " 'lifeline',\n",
       " '',\n",
       " 'in',\n",
       " '',\n",
       " 'times',\n",
       " '',\n",
       " 'of',\n",
       " '',\n",
       " 'trouble',\n",
       " '',\n",
       " '',\n",
       " '',\n",
       " 'day',\n",
       " '',\n",
       " '',\n",
       " '',\n",
       " 'received',\n",
       " '',\n",
       " 'a',\n",
       " '',\n",
       " 'mysterious',\n",
       " '',\n",
       " 'letter',\n",
       " '',\n",
       " 'with',\n",
       " '',\n",
       " 'today',\n",
       " '',\n",
       " 's',\n",
       " '',\n",
       " 'date',\n",
       " '',\n",
       " '',\n",
       " '',\n",
       " '',\n",
       " '',\n",
       " '',\n",
       " '',\n",
       " '',\n",
       " '',\n",
       " 'letter',\n",
       " '',\n",
       " 'hinted',\n",
       " '',\n",
       " 'at',\n",
       " '',\n",
       " 'an',\n",
       " '',\n",
       " 'upcoming',\n",
       " '',\n",
       " 'quest',\n",
       " '',\n",
       " '',\n",
       " '',\n",
       " 'explorers',\n",
       " '',\n",
       " 'gathered',\n",
       " '',\n",
       " 'at',\n",
       " '',\n",
       " 'the',\n",
       " '',\n",
       " 'local',\n",
       " '',\n",
       " 'inn',\n",
       " '',\n",
       " 'where',\n",
       " '',\n",
       " 'they',\n",
       " '',\n",
       " 'found',\n",
       " '',\n",
       " 'a',\n",
       " '',\n",
       " 'weathered',\n",
       " '',\n",
       " 'map',\n",
       " '',\n",
       " 'marked',\n",
       " '',\n",
       " 'with',\n",
       " '',\n",
       " 'a',\n",
       " '',\n",
       " 'hashtag',\n",
       " '',\n",
       " 'adventure',\n",
       " '',\n",
       " '',\n",
       " '',\n",
       " 'map',\n",
       " '',\n",
       " 'pointed',\n",
       " '',\n",
       " 'to',\n",
       " '',\n",
       " 'a',\n",
       " '',\n",
       " 'hidden',\n",
       " '',\n",
       " 'treasure',\n",
       " '',\n",
       " 'on',\n",
       " '',\n",
       " 'the',\n",
       " '',\n",
       " 'website',\n",
       " '',\n",
       " 'https',\n",
       " '',\n",
       " 'www',\n",
       " '',\n",
       " 'treasurehunt',\n",
       " '',\n",
       " 'com',\n",
       " '',\n",
       " '',\n",
       " '',\n",
       " 'inn',\n",
       " '',\n",
       " 's',\n",
       " '',\n",
       " 'address',\n",
       " '',\n",
       " 'was',\n",
       " '',\n",
       " '',\n",
       " '',\n",
       " '',\n",
       " '',\n",
       " '',\n",
       " '',\n",
       " '',\n",
       " '',\n",
       " '',\n",
       " '',\n",
       " '',\n",
       " '',\n",
       " '',\n",
       " '',\n",
       " '',\n",
       " '',\n",
       " 'journey',\n",
       " '',\n",
       " 'took',\n",
       " '',\n",
       " 'them',\n",
       " '',\n",
       " 'through',\n",
       " '',\n",
       " 'the',\n",
       " '',\n",
       " 'ancient',\n",
       " '',\n",
       " 'forest',\n",
       " '',\n",
       " 'where',\n",
       " '',\n",
       " 'they',\n",
       " '',\n",
       " 'stumbled',\n",
       " '',\n",
       " 'upon',\n",
       " '',\n",
       " 'a',\n",
       " '',\n",
       " 'cave',\n",
       " '',\n",
       " 'with',\n",
       " '',\n",
       " 'cryptic',\n",
       " '',\n",
       " 'inscriptions',\n",
       " '',\n",
       " '',\n",
       " '',\n",
       " 'is',\n",
       " '',\n",
       " 'amazing',\n",
       " '',\n",
       " 'and',\n",
       " '',\n",
       " '',\n",
       " '',\n",
       " 'is',\n",
       " '',\n",
       " 'equally',\n",
       " '',\n",
       " 'fascinating',\n",
       " '',\n",
       " '',\n",
       " '',\n",
       " 'explorers',\n",
       " '',\n",
       " 'knew',\n",
       " '',\n",
       " 'they',\n",
       " '',\n",
       " 'were',\n",
       " '',\n",
       " 'on',\n",
       " '',\n",
       " 'the',\n",
       " '',\n",
       " 'right',\n",
       " '',\n",
       " 'path',\n",
       " '',\n",
       " '',\n",
       " '',\n",
       " 'the',\n",
       " '',\n",
       " 'cave',\n",
       " '',\n",
       " 'they',\n",
       " '',\n",
       " 'found',\n",
       " '',\n",
       " 'a',\n",
       " '',\n",
       " 'device',\n",
       " '',\n",
       " 'with',\n",
       " '',\n",
       " 'the',\n",
       " '',\n",
       " '',\n",
       " '',\n",
       " 'address',\n",
       " '',\n",
       " '',\n",
       " '',\n",
       " '',\n",
       " '',\n",
       " '',\n",
       " '',\n",
       " '',\n",
       " '',\n",
       " 'and',\n",
       " '',\n",
       " 'a',\n",
       " '',\n",
       " '',\n",
       " '',\n",
       " 'addres',\n",
       " '',\n",
       " 'of',\n",
       " '',\n",
       " '',\n",
       " '',\n",
       " '',\n",
       " '',\n",
       " '',\n",
       " '',\n",
       " '',\n",
       " '',\n",
       " '',\n",
       " '',\n",
       " '',\n",
       " '',\n",
       " 'which',\n",
       " '',\n",
       " 'held',\n",
       " '',\n",
       " 'valuable',\n",
       " '',\n",
       " 'clues',\n",
       " '',\n",
       " '',\n",
       " '',\n",
       " 'the',\n",
       " '',\n",
       " 'explorers',\n",
       " '',\n",
       " 'there',\n",
       " '',\n",
       " 'was',\n",
       " '',\n",
       " 'a',\n",
       " '',\n",
       " 'wordsmith',\n",
       " '',\n",
       " 'who',\n",
       " '',\n",
       " 'loved',\n",
       " '',\n",
       " 'finding',\n",
       " '',\n",
       " 'words',\n",
       " '',\n",
       " 'with',\n",
       " '',\n",
       " 'three',\n",
       " '',\n",
       " 'consecutive',\n",
       " '',\n",
       " 'vowels',\n",
       " '',\n",
       " 'boasting',\n",
       " '',\n",
       " 'quizzical',\n",
       " '',\n",
       " 'genuine',\n",
       " '',\n",
       " 'and',\n",
       " '',\n",
       " 'queue',\n",
       " '',\n",
       " 'were',\n",
       " '',\n",
       " 'some',\n",
       " '',\n",
       " 'of',\n",
       " '',\n",
       " 'his',\n",
       " '',\n",
       " 'favorites',\n",
       " '',\n",
       " '',\n",
       " '',\n",
       " 'they',\n",
       " '',\n",
       " 'continued',\n",
       " '',\n",
       " 'their',\n",
       " '',\n",
       " 'adventure',\n",
       " '',\n",
       " 'they',\n",
       " '',\n",
       " 'encountered',\n",
       " '',\n",
       " '',\n",
       " '',\n",
       " '',\n",
       " '',\n",
       " 'a',\n",
       " '',\n",
       " 'lorem',\n",
       " '',\n",
       " 'ipsum',\n",
       " '',\n",
       " 'generator',\n",
       " '',\n",
       " 'who',\n",
       " '',\n",
       " 'spoke',\n",
       " '',\n",
       " 'in',\n",
       " '',\n",
       " '',\n",
       " '',\n",
       " '',\n",
       " '',\n",
       " 'ipsum',\n",
       " '',\n",
       " 'dolor',\n",
       " '',\n",
       " 'sit',\n",
       " '',\n",
       " 'amet',\n",
       " '',\n",
       " 'consectetur',\n",
       " '',\n",
       " 'adipiscing',\n",
       " '',\n",
       " 'elit',\n",
       " '',\n",
       " '',\n",
       " '',\n",
       " 'their',\n",
       " '',\n",
       " 'pursuit',\n",
       " '',\n",
       " 'they',\n",
       " '',\n",
       " 'stumbled',\n",
       " '',\n",
       " 'upon',\n",
       " '',\n",
       " 'an',\n",
       " '',\n",
       " 'ancient',\n",
       " '',\n",
       " 'book',\n",
       " '',\n",
       " 'with',\n",
       " '',\n",
       " 'mysterious',\n",
       " '',\n",
       " '',\n",
       " '',\n",
       " '',\n",
       " '',\n",
       " 'and',\n",
       " '',\n",
       " '',\n",
       " '',\n",
       " '',\n",
       " '',\n",
       " 'numbers',\n",
       " '',\n",
       " '',\n",
       " '',\n",
       " '',\n",
       " '',\n",
       " '',\n",
       " '',\n",
       " 'and',\n",
       " '',\n",
       " '',\n",
       " '',\n",
       " '',\n",
       " '',\n",
       " '',\n",
       " '',\n",
       " '',\n",
       " '',\n",
       " '',\n",
       " '',\n",
       " 'journey',\n",
       " '',\n",
       " 'was',\n",
       " '',\n",
       " 'filled',\n",
       " '',\n",
       " 'with',\n",
       " '',\n",
       " 'unexpected',\n",
       " '',\n",
       " 'twists',\n",
       " '',\n",
       " 'and',\n",
       " '',\n",
       " 'turns',\n",
       " '',\n",
       " 'much',\n",
       " '',\n",
       " 'like',\n",
       " '',\n",
       " 'the',\n",
       " '',\n",
       " 'regex',\n",
       " '',\n",
       " 'patterns',\n",
       " '',\n",
       " 'they',\n",
       " '',\n",
       " 'used',\n",
       " '',\n",
       " 'to',\n",
       " '',\n",
       " 'decipher',\n",
       " '',\n",
       " 'clues',\n",
       " '',\n",
       " '',\n",
       " '',\n",
       " 'a',\n",
       " '',\n",
       " 'long',\n",
       " '',\n",
       " 'day',\n",
       " '',\n",
       " 'the',\n",
       " '',\n",
       " 'explorers',\n",
       " '',\n",
       " 'gathered',\n",
       " '',\n",
       " 'around',\n",
       " '',\n",
       " 'a',\n",
       " '',\n",
       " 'campfire',\n",
       " '',\n",
       " 'sharing',\n",
       " '',\n",
       " 'tales',\n",
       " '',\n",
       " 'of',\n",
       " '',\n",
       " 'their',\n",
       " '',\n",
       " 'encounters',\n",
       " '',\n",
       " '',\n",
       " '',\n",
       " 'realized',\n",
       " '',\n",
       " 'that',\n",
       " '',\n",
       " 'every',\n",
       " '',\n",
       " 'step',\n",
       " '',\n",
       " 'of',\n",
       " '',\n",
       " 'their',\n",
       " '',\n",
       " 'adventure',\n",
       " '',\n",
       " 'was',\n",
       " '',\n",
       " 'a',\n",
       " '',\n",
       " 'puzzle',\n",
       " '',\n",
       " 'waiting',\n",
       " '',\n",
       " 'to',\n",
       " '',\n",
       " 'be',\n",
       " '',\n",
       " 'solved',\n",
       " '',\n",
       " 'just',\n",
       " '',\n",
       " 'like',\n",
       " '',\n",
       " 'the',\n",
       " '',\n",
       " 'regex',\n",
       " '',\n",
       " 'challenges',\n",
       " '',\n",
       " 'they',\n",
       " '',\n",
       " 'had',\n",
       " '',\n",
       " 'conquered',\n",
       " '',\n",
       " '',\n",
       " '',\n",
       " 'they',\n",
       " '',\n",
       " 'drifted',\n",
       " '',\n",
       " 'off',\n",
       " '',\n",
       " 'to',\n",
       " '',\n",
       " 'sleep',\n",
       " '',\n",
       " 'under',\n",
       " '',\n",
       " 'a',\n",
       " '',\n",
       " 'starlit',\n",
       " '',\n",
       " 'sky',\n",
       " '',\n",
       " 'they',\n",
       " '',\n",
       " 'knew',\n",
       " '',\n",
       " 'that',\n",
       " '',\n",
       " 'their',\n",
       " '',\n",
       " 'quest',\n",
       " '',\n",
       " 'for',\n",
       " '',\n",
       " 'treasure',\n",
       " '',\n",
       " 'and',\n",
       " '',\n",
       " 'knowledge',\n",
       " '',\n",
       " 'had',\n",
       " '',\n",
       " 'only',\n",
       " '',\n",
       " 'just',\n",
       " '',\n",
       " 'begun',\n",
       " '',\n",
       " 'and',\n",
       " '',\n",
       " 'the',\n",
       " '',\n",
       " 'magic',\n",
       " '',\n",
       " 'of',\n",
       " '',\n",
       " '',\n",
       " '',\n",
       " 'would',\n",
       " '',\n",
       " 'continue',\n",
       " '',\n",
       " 'to',\n",
       " '',\n",
       " 'guide',\n",
       " '',\n",
       " 'their',\n",
       " '',\n",
       " 'way',\n",
       " '']"
      ]
     },
     "execution_count": 28,
     "metadata": {},
     "output_type": "execute_result"
    }
   ],
   "source": [
    "re.findall(r'\\b[a-z]*\\b',s)"
   ]
  },
  {
   "cell_type": "markdown",
   "id": "27138953-f3d8-4e8e-b94f-9cf60043cb76",
   "metadata": {},
   "source": [
    "#### Create a Python program that finds and prints all the hashtags (words starting with #) in a given text."
   ]
  },
  {
   "cell_type": "code",
   "execution_count": 26,
   "id": "93e50146-3390-46d7-8440-23dc4f0b5e5f",
   "metadata": {},
   "outputs": [
    {
     "data": {
      "text/plain": [
       "['#adventure']"
      ]
     },
     "execution_count": 26,
     "metadata": {},
     "output_type": "execute_result"
    }
   ],
   "source": [
    "re.findall(r'#+\\w*\\b',s)"
   ]
  },
  {
   "cell_type": "markdown",
   "id": "b73f8a8f-320a-44d7-95ee-587e48bffd17",
   "metadata": {},
   "source": [
    "#### Create a Python program to validate and extract ISBN-10 and ISBN-13 numbers from a given text."
   ]
  },
  {
   "cell_type": "code",
   "execution_count": 35,
   "id": "cf458093-044e-47f8-bdac-4d8ce22669ee",
   "metadata": {},
   "outputs": [
    {
     "ename": "NameError",
     "evalue": "name 'r' is not defined",
     "output_type": "error",
     "traceback": [
      "\u001b[1;31m---------------------------------------------------------------------------\u001b[0m",
      "\u001b[1;31mNameError\u001b[0m                                 Traceback (most recent call last)",
      "Cell \u001b[1;32mIn[35], line 1\u001b[0m\n\u001b[1;32m----> 1\u001b[0m re\u001b[38;5;241m.\u001b[39mfindall(\u001b[43mr\u001b[49m,s)\n",
      "\u001b[1;31mNameError\u001b[0m: name 'r' is not defined"
     ]
    }
   ],
   "source": [
    "re.findall(r,s)"
   ]
  },
  {
   "cell_type": "markdown",
   "id": "3c9198be-8c2c-446d-8ad8-ae462af90a80",
   "metadata": {},
   "source": [
    "#### Write a Python program that extracts all the words that are exactly 5 characters long from a given text."
   ]
  },
  {
   "cell_type": "code",
   "execution_count": null,
   "id": "8f44b3b6-be95-48ab-af59-e7bc2c26a652",
   "metadata": {},
   "outputs": [],
   "source": [
    "re.findall(r'\\b\\w{5}\\b',s)"
   ]
  },
  {
   "cell_type": "markdown",
   "id": "d19b4948-59f5-4d3d-9875-7f0f7e5ac60d",
   "metadata": {},
   "source": [
    "#### Create a Python program to validate and extract IPv4 addresses from a given text."
   ]
  },
  {
   "cell_type": "code",
   "execution_count": 29,
   "id": "2a0082f4-c83b-44fc-a710-ae0dab06bc1d",
   "metadata": {},
   "outputs": [
    {
     "data": {
      "text/plain": [
       "['192.168.1.1']"
      ]
     },
     "execution_count": 29,
     "metadata": {},
     "output_type": "execute_result"
    }
   ],
   "source": [
    "re.findall(r'\\b\\d{1,3}\\.\\d{1,3}\\.\\d{1,3}\\.\\d{1,3}\\b',s)"
   ]
  },
  {
   "cell_type": "markdown",
   "id": "9ce5f531-325b-4611-a5c3-b3b98d9eecf3",
   "metadata": {},
   "source": [
    "#### Write a Python program that extracts all the words that end with \"ing\" from a given text."
   ]
  },
  {
   "cell_type": "code",
   "execution_count": 30,
   "id": "65481a0a-c36c-4b2a-a354-0393c98520cc",
   "metadata": {},
   "outputs": [
    {
     "data": {
      "text/plain": [
       "['upcoming',\n",
       " 'amazing',\n",
       " 'fascinating',\n",
       " 'finding',\n",
       " 'boasting',\n",
       " 'adipiscing',\n",
       " 'sharing',\n",
       " 'waiting']"
      ]
     },
     "execution_count": 30,
     "metadata": {},
     "output_type": "execute_result"
    }
   ],
   "source": [
    "re.findall(r'\\b\\w*ing\\b',s)"
   ]
  },
  {
   "cell_type": "markdown",
   "id": "9c26f081-895f-487a-bb3b-b416804dc542",
   "metadata": {},
   "source": [
    "#### Create a Python program to validate and extract MAC addresses (in the format XX:XX:XX:XX:XX:XX) from a given text."
   ]
  },
  {
   "cell_type": "code",
   "execution_count": 32,
   "id": "014b0956-6ef8-46a1-8f0b-635e8bbad63b",
   "metadata": {},
   "outputs": [
    {
     "data": {
      "text/plain": [
       "[]"
      ]
     },
     "execution_count": 32,
     "metadata": {},
     "output_type": "execute_result"
    }
   ],
   "source": [
    "re.findall(r'\\b[A-Z0-9]{2}:[A-Z0-9]{2}:[A-Z0-9]{2}:[A-Z0-9]{2}:[A-Z0-9]{2}:[A-Z0-9]{2}:\\b',s)"
   ]
  },
  {
   "cell_type": "code",
   "execution_count": 33,
   "id": "1fdb8f4b-7725-4041-b6c2-4dc7477c2e8d",
   "metadata": {},
   "outputs": [
    {
     "data": {
      "text/plain": [
       "['adventure and her',\n",
       " '1 and a',\n",
       " '10 and ISBN',\n",
       " '123456789X and ISBN',\n",
       " 'twists and turns',\n",
       " 'treasure and knowledge']"
      ]
     },
     "execution_count": 33,
     "metadata": {},
     "output_type": "execute_result"
    }
   ],
   "source": [
    "#py that gets all \"word\" and \"word\"\n",
    "re.findall(r'\\w+ and \\w+', s)"
   ]
  },
  {
   "cell_type": "code",
   "execution_count": 37,
   "id": "bb9db0ab-1c77-483f-b2f6-c3fabb5d0f08",
   "metadata": {},
   "outputs": [
    {
     "data": {
      "text/plain": [
       "['Lorem Ipsum', 'lorem ipsum']"
      ]
     },
     "execution_count": 37,
     "metadata": {},
     "output_type": "execute_result"
    }
   ],
   "source": [
    "re.findall(r'(Lorem Ipsum|lorem ipsum)', s)"
   ]
  },
  {
   "cell_type": "code",
   "execution_count": null,
   "id": "0890f002-bdc6-47c7-a916-35c181e3a48d",
   "metadata": {},
   "outputs": [],
   "source": []
  }
 ],
 "metadata": {
  "kernelspec": {
   "display_name": "Python 3 (ipykernel)",
   "language": "python",
   "name": "python3"
  },
  "language_info": {
   "codemirror_mode": {
    "name": "ipython",
    "version": 3
   },
   "file_extension": ".py",
   "mimetype": "text/x-python",
   "name": "python",
   "nbconvert_exporter": "python",
   "pygments_lexer": "ipython3",
   "version": "3.12.2"
  }
 },
 "nbformat": 4,
 "nbformat_minor": 5
}
